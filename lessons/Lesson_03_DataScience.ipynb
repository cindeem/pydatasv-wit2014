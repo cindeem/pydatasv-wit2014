{
 "metadata": {
  "name": ""
 },
 "nbformat": 3,
 "nbformat_minor": 0,
 "worksheets": [
  {
   "cells": [
    {
     "cell_type": "markdown",
     "metadata": {},
     "source": [
      "#Data Science\n",
      "\n",
      "##what is it\n",
      "\n",
      "##what is it trying to do\n",
      "\n",
      "##what is it used for\n",
      "\n"
     ]
    },
    {
     "cell_type": "markdown",
     "metadata": {},
     "source": [
      "Miaoqing Fang (Facebook)\n",
      "\n",
      "* Together with the engineering team, we built a machine learning\n",
      "    pipeline which estimates the likelihood of a facebook being authentic\n",
      "    or fake\n",
      "\n",
      "Katelyn Begany (Facebook)\n",
      "\n",
      "* Machine learning helps me characterize \"networks\" of brain regions that work together during brain recordings."
     ]
    },
    {
     "cell_type": "code",
     "collapsed": false,
     "input": [
      "%quickref\n"
     ],
     "language": "python",
     "metadata": {},
     "outputs": [],
     "prompt_number": 1
    }
   ],
   "metadata": {}
  }
 ]
}