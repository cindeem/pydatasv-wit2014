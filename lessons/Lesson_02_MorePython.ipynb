{
 "metadata": {
  "name": ""
 },
 "nbformat": 3,
 "nbformat_minor": 0,
 "worksheets": [
  {
   "cells": [
    {
     "cell_type": "markdown",
     "metadata": {},
     "source": [
      "#Lesson Part 2\n",
      "\n",
      "## More Python \n",
      "\n",
      "\n",
      "lesson online (non-interactive)\n",
      "http://nbviewer.ipython.org/github/cindeem/pydatasv-wit2014/blob/master/lessons/Lesson_02_MorePython.ipynb"
     ]
    },
    {
     "cell_type": "markdown",
     "metadata": {},
     "source": [
      "# Looping through your list\n",
      "\n",
      "## make a new list of stuff \n",
      "\n",
      " * your name\n",
      " * favorite fruit\n",
      " * favorite number\n",
      " * favorite animal\n",
      " * number of siblings\n",
      " * favorite musician\n",
      " \n",
      "eg.\n",
      "mybag = ['cindee', 'blueberry', 13, 'cat', 1, 'Lorde']\n",
      "\n"
     ]
    },
    {
     "cell_type": "code",
     "collapsed": false,
     "input": [
      "mybag = ['cindee', 'blueberry', 13, 'cat', 1, 'Lorde']"
     ],
     "language": "python",
     "metadata": {},
     "outputs": [],
     "prompt_number": 1
    },
    {
     "cell_type": "markdown",
     "metadata": {},
     "source": [
      "I want to refer to each item in my bag and tell you what it is\n",
      "\n",
      "to do this I use a <font color=#FF6B4B>for loop</font>\n",
      "\n",
      "There are two important parts:\n",
      "\n",
      " * <font color=#FF6B4B>:</font> colon at the end of the line\n",
      " * <font color=#FF6B4B>indent</font> so python knows this is the activity at each pass\n",
      " \n",
      " \n",
      " ```python\n",
      " for thing in mybag:\n",
      "     print thing\n",
      "```"
     ]
    },
    {
     "cell_type": "code",
     "collapsed": false,
     "input": [
      "# thing is just a temporary variable , holding one of the items for a short time\n",
      "for thing in mybag:\n",
      "    print thing"
     ],
     "language": "python",
     "metadata": {},
     "outputs": [
      {
       "output_type": "stream",
       "stream": "stdout",
       "text": [
        "cindee\n",
        "blueberry\n",
        "13\n",
        "cat\n",
        "1\n",
        "Lorde\n"
       ]
      }
     ],
     "prompt_number": 2
    },
    {
     "cell_type": "markdown",
     "metadata": {},
     "source": [
      "#Asking questions about things in our bag\n",
      "##Sometimes we want to check the things in our bag\n",
      "\n",
      "* is my name in the bag? (what about misspelling?)\n",
      "* is there a cat in mybag?"
     ]
    },
    {
     "cell_type": "code",
     "collapsed": false,
     "input": [
      "print mybag[0] == 'cindee'\n",
      "print mybag[0] == 'Cindee'"
     ],
     "language": "python",
     "metadata": {},
     "outputs": [
      {
       "output_type": "stream",
       "stream": "stdout",
       "text": [
        "True\n",
        "False\n"
       ]
      }
     ],
     "prompt_number": 3
    },
    {
     "cell_type": "code",
     "collapsed": false,
     "input": [
      "# I can check if something specific is in my bag\n",
      "'cat' in mybag"
     ],
     "language": "python",
     "metadata": {},
     "outputs": [
      {
       "metadata": {},
       "output_type": "pyout",
       "prompt_number": 4,
       "text": [
        "True"
       ]
      }
     ],
     "prompt_number": 4
    },
    {
     "cell_type": "markdown",
     "metadata": {},
     "source": [
      "# Booleans?\n",
      "## True and False are a special type of object called Booleans\n",
      "\n",
      "<font color=#FF6B4B>True</font> and <font color=#FF6B4B>False</font> are used in comparisons. \n",
      "\n",
      "\n",
      "### isinstance\n",
      "We can use a special function called <font color=#FF6B4B>isinstance</font>, to check if something is a string or a number\n",
      "\n",
      " * for strings use: <font color=#FF6B4B>str</font> (short for string) \n",
      " * for numbers use: <font color=#FF6B4B>int</font> (short for integer)\n"
     ]
    },
    {
     "cell_type": "code",
     "collapsed": false,
     "input": [
      "isinstance('hello', str)"
     ],
     "language": "python",
     "metadata": {},
     "outputs": [
      {
       "metadata": {},
       "output_type": "pyout",
       "prompt_number": 5,
       "text": [
        "True"
       ]
      }
     ],
     "prompt_number": 5
    },
    {
     "cell_type": "code",
     "collapsed": false,
     "input": [
      "# finding a type\n",
      "type(3)"
     ],
     "language": "python",
     "metadata": {},
     "outputs": [
      {
       "metadata": {},
       "output_type": "pyout",
       "prompt_number": 6,
       "text": [
        "int"
       ]
      }
     ],
     "prompt_number": 6
    },
    {
     "cell_type": "markdown",
     "metadata": {},
     "source": [
      "### Exercise\n",
      "#### See if the third thing in your bag is a number"
     ]
    },
    {
     "cell_type": "code",
     "collapsed": false,
     "input": [
      "print mybag[2], 'is a number?'\n",
      "print isinstance(mybag[2], int)"
     ],
     "language": "python",
     "metadata": {},
     "outputs": [
      {
       "output_type": "stream",
       "stream": "stdout",
       "text": [
        "13 is a number?\n",
        "True\n"
       ]
      }
     ],
     "prompt_number": 7
    },
    {
     "cell_type": "markdown",
     "metadata": {},
     "source": [
      "## Lets combine looping, and questions\n",
      " * We can loop through the things in our bag\n",
      " * Check if the thing is a string\n",
      "     (use <font color=#FF6B4B>isinstance</font> and <font color=#FF6B4B>str</font> to make this comparison)\n",
      " * print the thing if it is a string"
     ]
    },
    {
     "cell_type": "code",
     "collapsed": false,
     "input": [
      "for thing in mybag:\n",
      "    if isinstance(thing, str):\n",
      "        print thing"
     ],
     "language": "python",
     "metadata": {},
     "outputs": [
      {
       "output_type": "stream",
       "stream": "stdout",
       "text": [
        "cindee\n",
        "blueberry\n",
        "cat\n",
        "Lorde\n"
       ]
      }
     ],
     "prompt_number": 8
    },
    {
     "cell_type": "markdown",
     "metadata": {},
     "source": [
      "# Multiple Dimensions\n",
      "\n",
      "##What if we combined everyones bag into one bigbag?\n",
      "\n",
      "So \n",
      "\n"
     ]
    },
    {
     "cell_type": "code",
     "collapsed": false,
     "input": [
      "bigbag = [mybag, mybag]"
     ],
     "language": "python",
     "metadata": {},
     "outputs": [],
     "prompt_number": 9
    },
    {
     "cell_type": "code",
     "collapsed": false,
     "input": [
      "print mybag\n",
      "print bigbag\n",
      "len(bigbag)"
     ],
     "language": "python",
     "metadata": {},
     "outputs": [
      {
       "output_type": "stream",
       "stream": "stdout",
       "text": [
        "['cindee', 'blueberry', 13, 'cat', 1, 'Lorde']\n",
        "[['cindee', 'blueberry', 13, 'cat', 1, 'Lorde'], ['cindee', 'blueberry', 13, 'cat', 1, 'Lorde']]\n"
       ]
      },
      {
       "metadata": {},
       "output_type": "pyout",
       "prompt_number": 11,
       "text": [
        "2"
       ]
      }
     ],
     "prompt_number": 11
    },
    {
     "cell_type": "code",
     "collapsed": false,
     "input": [
      "bigbag[0]"
     ],
     "language": "python",
     "metadata": {},
     "outputs": [
      {
       "metadata": {},
       "output_type": "pyout",
       "prompt_number": 12,
       "text": [
        "['cindee', 'blueberry', 13, 'cat', 1, 'Lorde']"
       ]
      }
     ],
     "prompt_number": 12
    },
    {
     "cell_type": "markdown",
     "metadata": {},
     "source": [
      "##How do I access all the favorite animals?"
     ]
    },
    {
     "cell_type": "code",
     "collapsed": false,
     "input": [
      "bigbag[0][2]"
     ],
     "language": "python",
     "metadata": {},
     "outputs": [
      {
       "metadata": {},
       "output_type": "pyout",
       "prompt_number": 15,
       "text": [
        "13"
       ]
      }
     ],
     "prompt_number": 15
    },
    {
     "cell_type": "code",
     "collapsed": false,
     "input": [
      "# I wished that worked, now what do I do?"
     ],
     "language": "python",
     "metadata": {},
     "outputs": []
    },
    {
     "cell_type": "markdown",
     "metadata": {},
     "source": [
      "#import and arrays\n",
      "## import\n",
      "Python comes with a bunch of cool tools, but sometimes I need other tools (like above)\n",
      "\n",
      "To get access to these tools I need to import them into my Python workspace\n",
      "\n",
      "##arrays\n",
      "One set of tools comes in a package called <font color=#FF6B4B>numpy</font>\n",
      "<font color=#FF6B4B>Numpy</font> is used in data science all the time, because it allows us to easily work with lists of lists efficiently\n",
      "\n",
      "These objects are called <font color=#FF6B4B>arrays</font>\n",
      "\n",
      " * lets import numpy\n",
      " * we can even give it an alias or nickname \n"
     ]
    },
    {
     "cell_type": "code",
     "collapsed": false,
     "input": [
      "import numpy\n",
      "import numpy as np"
     ],
     "language": "python",
     "metadata": {},
     "outputs": [],
     "prompt_number": 1
    },
    {
     "cell_type": "code",
     "collapsed": false,
     "input": [
      "bigbag = np.asarray(bigbag)"
     ],
     "language": "python",
     "metadata": {},
     "outputs": [],
     "prompt_number": 17
    },
    {
     "cell_type": "code",
     "collapsed": false,
     "input": [
      "bigbag.shape\n"
     ],
     "language": "python",
     "metadata": {},
     "outputs": [
      {
       "metadata": {},
       "output_type": "pyout",
       "prompt_number": 18,
       "text": [
        "(2, 6)"
       ]
      }
     ],
     "prompt_number": 18
    },
    {
     "cell_type": "code",
     "collapsed": false,
     "input": [
      "bigbag[:,1]"
     ],
     "language": "python",
     "metadata": {},
     "outputs": [
      {
       "metadata": {},
       "output_type": "pyout",
       "prompt_number": 21,
       "text": [
        "array(['blueberry', 'blueberry'], \n",
        "      dtype='|S9')"
       ]
      }
     ],
     "prompt_number": 21
    },
    {
     "cell_type": "code",
     "collapsed": false,
     "input": [
      "bigbag"
     ],
     "language": "python",
     "metadata": {},
     "outputs": [
      {
       "metadata": {},
       "output_type": "pyout",
       "prompt_number": 22,
       "text": [
        "array([['cindee', 'blueberry', '13', 'cat', '1', 'Lorde'],\n",
        "       ['cindee', 'blueberry', '13', 'cat', '1', 'Lorde']], \n",
        "      dtype='|S9')"
       ]
      }
     ],
     "prompt_number": 22
    },
    {
     "cell_type": "code",
     "collapsed": false,
     "input": [
      "bbag = bigbag[0, :]"
     ],
     "language": "python",
     "metadata": {},
     "outputs": [],
     "prompt_number": 23
    },
    {
     "cell_type": "code",
     "collapsed": false,
     "input": [
      "bbag"
     ],
     "language": "python",
     "metadata": {},
     "outputs": [
      {
       "metadata": {},
       "output_type": "pyout",
       "prompt_number": 24,
       "text": [
        "array(['cindee', 'blueberry', '13', 'cat', '1', 'Lorde'], \n",
        "      dtype='|S9')"
       ]
      }
     ],
     "prompt_number": 24
    },
    {
     "cell_type": "markdown",
     "metadata": {},
     "source": [
      "#Visualizing multiple dimensions using blocks\n",
      "##ipythonblocks \n",
      "ipython blocks allow us to understand this complex structure of multidimensional objects a little more easily\n",
      "\n",
      "lets create a simple set of blocks that has 4 rows and 4 columns\n",
      "\n"
     ]
    },
    {
     "cell_type": "code",
     "collapsed": false,
     "input": [
      "from ipythonblocks import BlockGrid\n",
      "# define some colors\n",
      "black = (0, 0, 0)\n",
      "red = (255, 0 , 0)\n",
      "# make a black grid\n",
      "blocks = BlockGrid(4,4, fill=black)\n",
      "\n",
      "# make one block red\n",
      "blocks[2,2] = red\n",
      "# show the grid\n",
      "blocks"
     ],
     "language": "python",
     "metadata": {},
     "outputs": [
      {
       "html": [
        "<style type=\"text/css\">table.blockgrid {border: none;} .blockgrid tr {border: none;} .blockgrid td {padding: 0px;} #blocks4445341a-c73c-440b-bddc-a9882420735c td {border: 1px solid white;}</style><table id=\"blocks4445341a-c73c-440b-bddc-a9882420735c\" class=\"blockgrid\"><tbody><tr><td title=\"Index: [0, 0]&#10;Color: (0, 0, 0)\" style=\"width: 20px; height: 20px;background-color: rgb(0, 0, 0);\"></td><td title=\"Index: [0, 1]&#10;Color: (0, 0, 0)\" style=\"width: 20px; height: 20px;background-color: rgb(0, 0, 0);\"></td><td title=\"Index: [0, 2]&#10;Color: (0, 0, 0)\" style=\"width: 20px; height: 20px;background-color: rgb(0, 0, 0);\"></td><td title=\"Index: [0, 3]&#10;Color: (0, 0, 0)\" style=\"width: 20px; height: 20px;background-color: rgb(0, 0, 0);\"></td></tr><tr><td title=\"Index: [1, 0]&#10;Color: (0, 0, 0)\" style=\"width: 20px; height: 20px;background-color: rgb(0, 0, 0);\"></td><td title=\"Index: [1, 1]&#10;Color: (0, 0, 0)\" style=\"width: 20px; height: 20px;background-color: rgb(0, 0, 0);\"></td><td title=\"Index: [1, 2]&#10;Color: (0, 0, 0)\" style=\"width: 20px; height: 20px;background-color: rgb(0, 0, 0);\"></td><td title=\"Index: [1, 3]&#10;Color: (0, 0, 0)\" style=\"width: 20px; height: 20px;background-color: rgb(0, 0, 0);\"></td></tr><tr><td title=\"Index: [2, 0]&#10;Color: (0, 0, 0)\" style=\"width: 20px; height: 20px;background-color: rgb(0, 0, 0);\"></td><td title=\"Index: [2, 1]&#10;Color: (0, 0, 0)\" style=\"width: 20px; height: 20px;background-color: rgb(0, 0, 0);\"></td><td title=\"Index: [2, 2]&#10;Color: (255, 0, 0)\" style=\"width: 20px; height: 20px;background-color: rgb(255, 0, 0);\"></td><td title=\"Index: [2, 3]&#10;Color: (0, 0, 0)\" style=\"width: 20px; height: 20px;background-color: rgb(0, 0, 0);\"></td></tr><tr><td title=\"Index: [3, 0]&#10;Color: (0, 0, 0)\" style=\"width: 20px; height: 20px;background-color: rgb(0, 0, 0);\"></td><td title=\"Index: [3, 1]&#10;Color: (0, 0, 0)\" style=\"width: 20px; height: 20px;background-color: rgb(0, 0, 0);\"></td><td title=\"Index: [3, 2]&#10;Color: (0, 0, 0)\" style=\"width: 20px; height: 20px;background-color: rgb(0, 0, 0);\"></td><td title=\"Index: [3, 3]&#10;Color: (0, 0, 0)\" style=\"width: 20px; height: 20px;background-color: rgb(0, 0, 0);\"></td></tr></tbody></table>"
       ],
       "metadata": {},
       "output_type": "pyout",
       "prompt_number": 2,
       "text": [
        "<ipythonblocks.ipythonblocks.BlockGrid at 0x104965590>"
       ]
      }
     ],
     "prompt_number": 2
    },
    {
     "cell_type": "code",
     "collapsed": false,
     "input": [
      "# Once you have created the block\n",
      "# use your mouse to hover over each block, what does it tell you?"
     ],
     "language": "python",
     "metadata": {},
     "outputs": []
    },
    {
     "cell_type": "code",
     "collapsed": false,
     "input": [
      "blocks = BlockGrid(4,4)\n",
      "previous_block = None\n",
      "for block in blocks.animate(0.8):\n",
      "    block.rgb=red\n",
      "    if previous_block:\n",
      "        previous_block.rgb = black\n",
      "    previous_block = block\n"
     ],
     "language": "python",
     "metadata": {},
     "outputs": [
      {
       "html": [
        "<style type=\"text/css\">table.blockgrid {border: none;} .blockgrid tr {border: none;} .blockgrid td {padding: 0px;} #blockscd4d3e93-120e-4abc-9bd9-51c3cd72e13e td {border: 1px solid white;}</style><table id=\"blockscd4d3e93-120e-4abc-9bd9-51c3cd72e13e\" class=\"blockgrid\"><tbody><tr><td title=\"Index: [0, 0]&#10;Color: (0, 0, 0)\" style=\"width: 20px; height: 20px;background-color: rgb(0, 0, 0);\"></td><td title=\"Index: [0, 1]&#10;Color: (0, 0, 0)\" style=\"width: 20px; height: 20px;background-color: rgb(0, 0, 0);\"></td><td title=\"Index: [0, 2]&#10;Color: (0, 0, 0)\" style=\"width: 20px; height: 20px;background-color: rgb(0, 0, 0);\"></td><td title=\"Index: [0, 3]&#10;Color: (0, 0, 0)\" style=\"width: 20px; height: 20px;background-color: rgb(0, 0, 0);\"></td></tr><tr><td title=\"Index: [1, 0]&#10;Color: (0, 0, 0)\" style=\"width: 20px; height: 20px;background-color: rgb(0, 0, 0);\"></td><td title=\"Index: [1, 1]&#10;Color: (0, 0, 0)\" style=\"width: 20px; height: 20px;background-color: rgb(0, 0, 0);\"></td><td title=\"Index: [1, 2]&#10;Color: (0, 0, 0)\" style=\"width: 20px; height: 20px;background-color: rgb(0, 0, 0);\"></td><td title=\"Index: [1, 3]&#10;Color: (0, 0, 0)\" style=\"width: 20px; height: 20px;background-color: rgb(0, 0, 0);\"></td></tr><tr><td title=\"Index: [2, 0]&#10;Color: (0, 0, 0)\" style=\"width: 20px; height: 20px;background-color: rgb(0, 0, 0);\"></td><td title=\"Index: [2, 1]&#10;Color: (0, 0, 0)\" style=\"width: 20px; height: 20px;background-color: rgb(0, 0, 0);\"></td><td title=\"Index: [2, 2]&#10;Color: (0, 0, 0)\" style=\"width: 20px; height: 20px;background-color: rgb(0, 0, 0);\"></td><td title=\"Index: [2, 3]&#10;Color: (0, 0, 0)\" style=\"width: 20px; height: 20px;background-color: rgb(0, 0, 0);\"></td></tr><tr><td title=\"Index: [3, 0]&#10;Color: (0, 0, 0)\" style=\"width: 20px; height: 20px;background-color: rgb(0, 0, 0);\"></td><td title=\"Index: [3, 1]&#10;Color: (0, 0, 0)\" style=\"width: 20px; height: 20px;background-color: rgb(0, 0, 0);\"></td><td title=\"Index: [3, 2]&#10;Color: (0, 0, 0)\" style=\"width: 20px; height: 20px;background-color: rgb(0, 0, 0);\"></td><td title=\"Index: [3, 3]&#10;Color: (255, 0, 0)\" style=\"width: 20px; height: 20px;background-color: rgb(255, 0, 0);\"></td></tr></tbody></table>"
       ],
       "metadata": {},
       "output_type": "display_data",
       "text": [
        "<IPython.core.display.HTML at 0x100446850>"
       ]
      }
     ],
     "prompt_number": 3
    },
    {
     "cell_type": "markdown",
     "metadata": {},
     "source": [
      "### Lets do this in reverse\n",
      "1. use np.indices to get the x,y coords in the 2D block\n",
      "2. flatten the last two dimansions (4,4) into 1D to simplify iteration\n",
      "3. Update the block by using the x,y indices"
     ]
    },
    {
     "cell_type": "code",
     "collapsed": false,
     "input": [
      "blocks = BlockGrid(4,4)\n",
      "ind = np.indices((4,4)).reshape(2, 16)\n",
      "totalblocks = np.prod(blocks.shape)-1\n",
      "previous_block = None\n",
      "for blockn, block in enumerate(blocks.animate(0.8)):\n",
      "    x = ind[0,totalblocks-blockn]\n",
      "    y = ind[1,totalblocks-blockn]\n",
      "    blocks[x,y] = red\n",
      "    if previous_block:\n",
      "        previous_block.rgb = black\n",
      "    previous_block = blocks[x,y]\n"
     ],
     "language": "python",
     "metadata": {},
     "outputs": [
      {
       "html": [
        "<style type=\"text/css\">table.blockgrid {border: none;} .blockgrid tr {border: none;} .blockgrid td {padding: 0px;} #blocks4cdeb1ed-5912-4a97-8ccc-a1ab44e08eae td {border: 1px solid white;}</style><table id=\"blocks4cdeb1ed-5912-4a97-8ccc-a1ab44e08eae\" class=\"blockgrid\"><tbody><tr><td title=\"Index: [0, 0]&#10;Color: (0, 0, 0)\" style=\"width: 20px; height: 20px;background-color: rgb(0, 0, 0);\"></td><td title=\"Index: [0, 1]&#10;Color: (255, 0, 0)\" style=\"width: 20px; height: 20px;background-color: rgb(255, 0, 0);\"></td><td title=\"Index: [0, 2]&#10;Color: (0, 0, 0)\" style=\"width: 20px; height: 20px;background-color: rgb(0, 0, 0);\"></td><td title=\"Index: [0, 3]&#10;Color: (0, 0, 0)\" style=\"width: 20px; height: 20px;background-color: rgb(0, 0, 0);\"></td></tr><tr><td title=\"Index: [1, 0]&#10;Color: (0, 0, 0)\" style=\"width: 20px; height: 20px;background-color: rgb(0, 0, 0);\"></td><td title=\"Index: [1, 1]&#10;Color: (0, 0, 0)\" style=\"width: 20px; height: 20px;background-color: rgb(0, 0, 0);\"></td><td title=\"Index: [1, 2]&#10;Color: (0, 0, 0)\" style=\"width: 20px; height: 20px;background-color: rgb(0, 0, 0);\"></td><td title=\"Index: [1, 3]&#10;Color: (0, 0, 0)\" style=\"width: 20px; height: 20px;background-color: rgb(0, 0, 0);\"></td></tr><tr><td title=\"Index: [2, 0]&#10;Color: (0, 0, 0)\" style=\"width: 20px; height: 20px;background-color: rgb(0, 0, 0);\"></td><td title=\"Index: [2, 1]&#10;Color: (0, 0, 0)\" style=\"width: 20px; height: 20px;background-color: rgb(0, 0, 0);\"></td><td title=\"Index: [2, 2]&#10;Color: (0, 0, 0)\" style=\"width: 20px; height: 20px;background-color: rgb(0, 0, 0);\"></td><td title=\"Index: [2, 3]&#10;Color: (0, 0, 0)\" style=\"width: 20px; height: 20px;background-color: rgb(0, 0, 0);\"></td></tr><tr><td title=\"Index: [3, 0]&#10;Color: (0, 0, 0)\" style=\"width: 20px; height: 20px;background-color: rgb(0, 0, 0);\"></td><td title=\"Index: [3, 1]&#10;Color: (0, 0, 0)\" style=\"width: 20px; height: 20px;background-color: rgb(0, 0, 0);\"></td><td title=\"Index: [3, 2]&#10;Color: (0, 0, 0)\" style=\"width: 20px; height: 20px;background-color: rgb(0, 0, 0);\"></td><td title=\"Index: [3, 3]&#10;Color: (0, 0, 0)\" style=\"width: 20px; height: 20px;background-color: rgb(0, 0, 0);\"></td></tr></tbody></table>"
       ],
       "metadata": {},
       "output_type": "display_data",
       "text": [
        "<IPython.core.display.HTML at 0x104984210>"
       ]
      }
     ],
     "prompt_number": 33
    },
    {
     "cell_type": "code",
     "collapsed": false,
     "input": [
      "ind = np.indices((4,4)).reshape(2, 16)"
     ],
     "language": "python",
     "metadata": {},
     "outputs": [],
     "prompt_number": 22
    },
    {
     "cell_type": "code",
     "collapsed": false,
     "input": [],
     "language": "python",
     "metadata": {},
     "outputs": [
      {
       "metadata": {},
       "output_type": "pyout",
       "prompt_number": 21,
       "text": [
        "1"
       ]
      }
     ],
     "prompt_number": 21
    },
    {
     "cell_type": "code",
     "collapsed": false,
     "input": [
      "# we can make a whole column red\n",
      "blocks = BlockGrid(4,4, fill=black)\n",
      "blocks[:,2] = red\n",
      "blocks"
     ],
     "language": "python",
     "metadata": {},
     "outputs": [
      {
       "html": [
        "<style type=\"text/css\">table.blockgrid {border: none;} .blockgrid tr {border: none;} .blockgrid td {padding: 0px;} #blocks10ec7815-2202-4fac-81c7-61e2ebad7693 td {border: 1px solid white;}</style><table id=\"blocks10ec7815-2202-4fac-81c7-61e2ebad7693\" class=\"blockgrid\"><tbody><tr><td title=\"Index: [0, 0]&#10;Color: (0, 0, 0)\" style=\"width: 20px; height: 20px;background-color: rgb(0, 0, 0);\"></td><td title=\"Index: [0, 1]&#10;Color: (0, 0, 0)\" style=\"width: 20px; height: 20px;background-color: rgb(0, 0, 0);\"></td><td title=\"Index: [0, 2]&#10;Color: (255, 0, 0)\" style=\"width: 20px; height: 20px;background-color: rgb(255, 0, 0);\"></td><td title=\"Index: [0, 3]&#10;Color: (0, 0, 0)\" style=\"width: 20px; height: 20px;background-color: rgb(0, 0, 0);\"></td></tr><tr><td title=\"Index: [1, 0]&#10;Color: (0, 0, 0)\" style=\"width: 20px; height: 20px;background-color: rgb(0, 0, 0);\"></td><td title=\"Index: [1, 1]&#10;Color: (0, 0, 0)\" style=\"width: 20px; height: 20px;background-color: rgb(0, 0, 0);\"></td><td title=\"Index: [1, 2]&#10;Color: (255, 0, 0)\" style=\"width: 20px; height: 20px;background-color: rgb(255, 0, 0);\"></td><td title=\"Index: [1, 3]&#10;Color: (0, 0, 0)\" style=\"width: 20px; height: 20px;background-color: rgb(0, 0, 0);\"></td></tr><tr><td title=\"Index: [2, 0]&#10;Color: (0, 0, 0)\" style=\"width: 20px; height: 20px;background-color: rgb(0, 0, 0);\"></td><td title=\"Index: [2, 1]&#10;Color: (0, 0, 0)\" style=\"width: 20px; height: 20px;background-color: rgb(0, 0, 0);\"></td><td title=\"Index: [2, 2]&#10;Color: (255, 0, 0)\" style=\"width: 20px; height: 20px;background-color: rgb(255, 0, 0);\"></td><td title=\"Index: [2, 3]&#10;Color: (0, 0, 0)\" style=\"width: 20px; height: 20px;background-color: rgb(0, 0, 0);\"></td></tr><tr><td title=\"Index: [3, 0]&#10;Color: (0, 0, 0)\" style=\"width: 20px; height: 20px;background-color: rgb(0, 0, 0);\"></td><td title=\"Index: [3, 1]&#10;Color: (0, 0, 0)\" style=\"width: 20px; height: 20px;background-color: rgb(0, 0, 0);\"></td><td title=\"Index: [3, 2]&#10;Color: (255, 0, 0)\" style=\"width: 20px; height: 20px;background-color: rgb(255, 0, 0);\"></td><td title=\"Index: [3, 3]&#10;Color: (0, 0, 0)\" style=\"width: 20px; height: 20px;background-color: rgb(0, 0, 0);\"></td></tr></tbody></table>"
       ],
       "metadata": {},
       "output_type": "pyout",
       "prompt_number": 28,
       "text": [
        "<ipythonblocks.ipythonblocks.BlockGrid at 0x104e12850>"
       ]
      }
     ],
     "prompt_number": 28
    },
    {
     "cell_type": "markdown",
     "metadata": {},
     "source": [
      "###Exercise:\n",
      "Can you make the blocks and make the whole 2nd row red and everything else black?"
     ]
    },
    {
     "cell_type": "code",
     "collapsed": false,
     "input": [
      "blocks = BlockGrid(4,4, fill=black)\n",
      "blocks[1,:] = red\n",
      "blocks"
     ],
     "language": "python",
     "metadata": {},
     "outputs": []
    },
    {
     "cell_type": "markdown",
     "metadata": {},
     "source": [
      "#Dictionaries\n",
      "\n",
      "###Dictionaries are like lists, with a few changes\n",
      "\n",
      " * create using use curly brackets {}\n",
      " * key value pairs, or access the items in your bag by their names\n",
      "\n",
      "eg. Create a dictionary called newbag with one item **name**, which has a value of 'cindee'\n",
      "```python\n",
      "newbag = {'name': 'cindee}\n",
      "```\n"
     ]
    },
    {
     "cell_type": "markdown",
     "metadata": {},
     "source": [
      "###create a dictionary called newbag which contains\n",
      "\n",
      " * \"name\"     : your name\n",
      " * \"fruit\"    : favorite fruit\n",
      " * \"number\"   : favorite number\n",
      " * \"animal\"   : favorite animal\n",
      " * \"siblings\" : number of siblings\n",
      " * \"musician\" : favorite musician\n",
      " "
     ]
    },
    {
     "cell_type": "code",
     "collapsed": false,
     "input": [
      "newbag = { 'name' : 'cindee', \n",
      "          'fruit' : 'blueberry', \n",
      "          'number' : 13,\n",
      "          'animal' : 'cat',\n",
      "          'siblings': 1,\n",
      "          'musician' : 'Lourde'}"
     ],
     "language": "python",
     "metadata": {},
     "outputs": [],
     "prompt_number": 29
    },
    {
     "cell_type": "code",
     "collapsed": false,
     "input": [
      "# we cannot index a dictionary by numbers anymore, we need to use names"
     ],
     "language": "python",
     "metadata": {},
     "outputs": []
    },
    {
     "cell_type": "code",
     "collapsed": false,
     "input": [
      "newbag[0]"
     ],
     "language": "python",
     "metadata": {},
     "outputs": [
      {
       "ename": "KeyError",
       "evalue": "0",
       "output_type": "pyerr",
       "traceback": [
        "\u001b[0;31m---------------------------------------------------------------------------\u001b[0m\n\u001b[0;31mKeyError\u001b[0m                                  Traceback (most recent call last)",
        "\u001b[0;32m<ipython-input-30-9245417c36d4>\u001b[0m in \u001b[0;36m<module>\u001b[0;34m()\u001b[0m\n\u001b[0;32m----> 1\u001b[0;31m \u001b[0mnewbag\u001b[0m\u001b[0;34m[\u001b[0m\u001b[0;36m0\u001b[0m\u001b[0;34m]\u001b[0m\u001b[0;34m\u001b[0m\u001b[0m\n\u001b[0m",
        "\u001b[0;31mKeyError\u001b[0m: 0"
       ]
      }
     ],
     "prompt_number": 30
    },
    {
     "cell_type": "code",
     "collapsed": false,
     "input": [
      "newbag['name']\n",
      "newbag.keys()"
     ],
     "language": "python",
     "metadata": {},
     "outputs": [
      {
       "metadata": {},
       "output_type": "pyout",
       "prompt_number": 32,
       "text": [
        "['name', 'musician', 'number', 'fruit', 'animal', 'siblings']"
       ]
      }
     ],
     "prompt_number": 32
    },
    {
     "cell_type": "markdown",
     "metadata": {},
     "source": [
      "#Looping through dictionaries\n",
      "\n",
      "## loop through the keys\n",
      "\n",
      "```python\n",
      "* for key in dict:  (loops through keys)\n",
      "```\n",
      "\n",
      "### Exercise:\n",
      "\n",
      "Remember how to write a loop?\n",
      "Loops through the keys\n",
      "print the key and the value for each pass through the loop"
     ]
    },
    {
     "cell_type": "code",
     "collapsed": false,
     "input": [
      "for key in newbag:\n",
      "    print key, newbag[key]"
     ],
     "language": "python",
     "metadata": {},
     "outputs": [
      {
       "output_type": "stream",
       "stream": "stdout",
       "text": [
        "name cindee\n",
        "musician Lourde\n",
        "number 13\n",
        "fruit blueberry\n",
        "animal cat\n",
        "siblings 1\n"
       ]
      }
     ],
     "prompt_number": 33
    },
    {
     "cell_type": "code",
     "collapsed": false,
     "input": [
      "newbag.iteritems?"
     ],
     "language": "python",
     "metadata": {},
     "outputs": [],
     "prompt_number": 34
    },
    {
     "cell_type": "code",
     "collapsed": false,
     "input": [
      "for key, value in sorted(newbag.iteritems()):\n",
      "    print key, value"
     ],
     "language": "python",
     "metadata": {},
     "outputs": [
      {
       "output_type": "stream",
       "stream": "stdout",
       "text": [
        "animal cat\n",
        "fruit blueberry\n",
        "musician Lourde\n",
        "name cindee\n",
        "number 13\n",
        "siblings 1\n"
       ]
      }
     ],
     "prompt_number": 36
    },
    {
     "cell_type": "code",
     "collapsed": false,
     "input": [
      "\n",
      "mylist = [3,2,1]\n",
      "newlist = sorted(mylist)\n",
      "print mylist\n",
      "print newlist"
     ],
     "language": "python",
     "metadata": {},
     "outputs": [
      {
       "output_type": "stream",
       "stream": "stdout",
       "text": [
        "[3, 2, 1]\n",
        "[1, 2, 3]\n"
       ]
      }
     ],
     "prompt_number": 37
    },
    {
     "cell_type": "markdown",
     "metadata": {},
     "source": [
      "#Pandas\n",
      "\n",
      "Pandas are not just cute, it is a library that is used in datascience for working with complex sets of data. This is the last thing we need to understand to work with Instagram data.\n",
      "\n",
      " * import the pandas library\n",
      " "
     ]
    },
    {
     "cell_type": "code",
     "collapsed": false,
     "input": [
      "import pandas"
     ],
     "language": "python",
     "metadata": {},
     "outputs": [],
     "prompt_number": 38
    },
    {
     "cell_type": "code",
     "collapsed": false,
     "input": [
      "adas_bag = { 'name' : 'ada', \n",
      "          'fruit' : 'mango', \n",
      "          'number' : 42,\n",
      "          'animal' : 'cat',\n",
      "          'siblings': 0,\n",
      "          'musician' : 'Mozart'}"
     ],
     "language": "python",
     "metadata": {},
     "outputs": [],
     "prompt_number": 39
    },
    {
     "cell_type": "code",
     "collapsed": false,
     "input": [
      "bigbag = pandas.DataFrame({'cindee': newbag, 'ada': adas_bag})"
     ],
     "language": "python",
     "metadata": {},
     "outputs": [],
     "prompt_number": 40
    },
    {
     "cell_type": "code",
     "collapsed": false,
     "input": [
      "bigbag"
     ],
     "language": "python",
     "metadata": {},
     "outputs": [
      {
       "html": [
        "<div style=\"max-height:1000px;max-width:1500px;overflow:auto;\">\n",
        "<table border=\"1\" class=\"dataframe\">\n",
        "  <thead>\n",
        "    <tr style=\"text-align: right;\">\n",
        "      <th></th>\n",
        "      <th>ada</th>\n",
        "      <th>cindee</th>\n",
        "    </tr>\n",
        "  </thead>\n",
        "  <tbody>\n",
        "    <tr>\n",
        "      <th>animal</th>\n",
        "      <td>    cat</td>\n",
        "      <td>       cat</td>\n",
        "    </tr>\n",
        "    <tr>\n",
        "      <th>fruit</th>\n",
        "      <td>  mango</td>\n",
        "      <td> blueberry</td>\n",
        "    </tr>\n",
        "    <tr>\n",
        "      <th>musician</th>\n",
        "      <td> Mozart</td>\n",
        "      <td>    Lourde</td>\n",
        "    </tr>\n",
        "    <tr>\n",
        "      <th>name</th>\n",
        "      <td>    ada</td>\n",
        "      <td>    cindee</td>\n",
        "    </tr>\n",
        "    <tr>\n",
        "      <th>number</th>\n",
        "      <td>     42</td>\n",
        "      <td>        13</td>\n",
        "    </tr>\n",
        "    <tr>\n",
        "      <th>siblings</th>\n",
        "      <td>      0</td>\n",
        "      <td>         1</td>\n",
        "    </tr>\n",
        "  </tbody>\n",
        "</table>\n",
        "<p>6 rows \u00d7 2 columns</p>\n",
        "</div>"
       ],
       "metadata": {},
       "output_type": "pyout",
       "prompt_number": 41,
       "text": [
        "             ada     cindee\n",
        "animal       cat        cat\n",
        "fruit      mango  blueberry\n",
        "musician  Mozart     Lourde\n",
        "name         ada     cindee\n",
        "number        42         13\n",
        "siblings       0          1\n",
        "\n",
        "[6 rows x 2 columns]"
       ]
      }
     ],
     "prompt_number": 41
    },
    {
     "cell_type": "code",
     "collapsed": false,
     "input": [
      "bigbag.values[2,0]"
     ],
     "language": "python",
     "metadata": {},
     "outputs": [
      {
       "metadata": {},
       "output_type": "pyout",
       "prompt_number": 48,
       "text": [
        "'Mozart'"
       ]
      }
     ],
     "prompt_number": 48
    },
    {
     "cell_type": "code",
     "collapsed": false,
     "input": [
      "bigbag.values[:,1]"
     ],
     "language": "python",
     "metadata": {},
     "outputs": [
      {
       "metadata": {},
       "output_type": "pyout",
       "prompt_number": 44,
       "text": [
        "array(['cat', 'blueberry', 'Lourde', 'cindee', 13, 1], dtype=object)"
       ]
      }
     ],
     "prompt_number": 44
    },
    {
     "cell_type": "markdown",
     "metadata": {},
     "source": [
      "### Transpose\n",
      "####Small aside (optional)\n",
      "\n",
      "trans\u00b7pose\n",
      "trans\u02c8p\u014dz/Submit\n",
      "verb\n",
      "1.\n",
      "cause (two or more things) to change places with each other.\n",
      "synonyms:\tinterchange, exchange, switch, swap (around), reverse, invert, flip "
     ]
    },
    {
     "cell_type": "code",
     "collapsed": false,
     "input": [
      "#We can swap rows and columns easily!\n",
      "# the .T stands for transpose (google it)\n",
      "bigbag = bigbag.T"
     ],
     "language": "python",
     "metadata": {},
     "outputs": [],
     "prompt_number": 49
    },
    {
     "cell_type": "code",
     "collapsed": false,
     "input": [
      "bigbag"
     ],
     "language": "python",
     "metadata": {},
     "outputs": [
      {
       "html": [
        "<div style=\"max-height:1000px;max-width:1500px;overflow:auto;\">\n",
        "<table border=\"1\" class=\"dataframe\">\n",
        "  <thead>\n",
        "    <tr style=\"text-align: right;\">\n",
        "      <th></th>\n",
        "      <th>animal</th>\n",
        "      <th>fruit</th>\n",
        "      <th>musician</th>\n",
        "      <th>name</th>\n",
        "      <th>number</th>\n",
        "      <th>siblings</th>\n",
        "    </tr>\n",
        "  </thead>\n",
        "  <tbody>\n",
        "    <tr>\n",
        "      <th>ada</th>\n",
        "      <td> cat</td>\n",
        "      <td>     mango</td>\n",
        "      <td> Mozart</td>\n",
        "      <td>    ada</td>\n",
        "      <td> 42</td>\n",
        "      <td> 0</td>\n",
        "    </tr>\n",
        "    <tr>\n",
        "      <th>cindee</th>\n",
        "      <td> cat</td>\n",
        "      <td> blueberry</td>\n",
        "      <td> Lourde</td>\n",
        "      <td> cindee</td>\n",
        "      <td> 13</td>\n",
        "      <td> 1</td>\n",
        "    </tr>\n",
        "  </tbody>\n",
        "</table>\n",
        "<p>2 rows \u00d7 6 columns</p>\n",
        "</div>"
       ],
       "metadata": {},
       "output_type": "pyout",
       "prompt_number": 50,
       "text": [
        "       animal      fruit musician    name number siblings\n",
        "ada       cat      mango   Mozart     ada     42        0\n",
        "cindee    cat  blueberry   Lourde  cindee     13        1\n",
        "\n",
        "[2 rows x 6 columns]"
       ]
      }
     ],
     "prompt_number": 50
    },
    {
     "cell_type": "code",
     "collapsed": false,
     "input": [
      "bigbag.number.ada"
     ],
     "language": "python",
     "metadata": {},
     "outputs": [
      {
       "metadata": {},
       "output_type": "pyout",
       "prompt_number": 51,
       "text": [
        "42"
       ]
      }
     ],
     "prompt_number": 51
    },
    {
     "cell_type": "markdown",
     "metadata": {},
     "source": [
      "## Access the data in pandas\n",
      "\n",
      " * We do not use [] like a list\n",
      " * This is more like a dictionary, we call things by name"
     ]
    },
    {
     "cell_type": "code",
     "collapsed": false,
     "input": [
      "bigbag['fruit']"
     ],
     "language": "python",
     "metadata": {},
     "outputs": []
    }
   ],
   "metadata": {}
  }
 ]
}