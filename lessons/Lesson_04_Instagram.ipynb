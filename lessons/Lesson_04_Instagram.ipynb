{
 "metadata": {
  "name": ""
 },
 "nbformat": 3,
 "nbformat_minor": 0,
 "worksheets": [
  {
   "cells": [
    {
     "cell_type": "markdown",
     "metadata": {},
     "source": [
      "#Instagram\n",
      "## First: Set up some tools we will need to access instagram "
     ]
    },
    {
     "cell_type": "code",
     "collapsed": false,
     "input": [
      "%matplotlib inline"
     ],
     "language": "python",
     "metadata": {},
     "outputs": [],
     "prompt_number": 1
    },
    {
     "cell_type": "code",
     "collapsed": false,
     "input": [
      "import pandas\n",
      "from IPython.display import Image\n",
      "from instagram.client import InstagramAPI"
     ],
     "language": "python",
     "metadata": {},
     "outputs": [],
     "prompt_number": 12
    },
    {
     "cell_type": "markdown",
     "metadata": {},
     "source": [
      "### Code to prompt (you) \n",
      "\n",
      "I need you to put in some codes so the instagram API will work\n",
      "\n",
      "* client_id\n",
      "* secret "
     ]
    },
    {
     "cell_type": "code",
     "collapsed": false,
     "input": [
      "import IPython.core.display\n",
      "\n",
      "## Prompt user to enter input and hold in variable\n",
      "def ipynb_input(varname, prompt=''):\n",
      "    \"\"\"Prompt user for input and assign string val to given variable name.\"\"\"\n",
      "    js_code = (\"\"\"\n",
      "        var value = prompt(\"{prompt}\",\"\");\n",
      "        var py_code = \"{varname} = '\" + value + \"'\";\n",
      "        IPython.notebook.kernel.execute(py_code);\n",
      "    \"\"\").format(prompt=prompt, varname=varname)\n",
      "    return IPython.core.display.Javascript(js_code)"
     ],
     "language": "python",
     "metadata": {},
     "outputs": [],
     "prompt_number": 3
    },
    {
     "cell_type": "code",
     "collapsed": false,
     "input": [
      "##get Instagram Client ID, and Instagram Cleint Secret\n",
      "ipynb_input(varname='client_id', prompt='Enter client id')\n"
     ],
     "language": "python",
     "metadata": {},
     "outputs": [
      {
       "javascript": [
        "\n",
        "        var value = prompt(\"Enter client id\",\"\");\n",
        "        var py_code = \"client_id = '\" + value + \"'\";\n",
        "        IPython.notebook.kernel.execute(py_code);\n",
        "    "
       ],
       "metadata": {},
       "output_type": "pyout",
       "prompt_number": 4,
       "text": [
        "<IPython.core.display.Javascript at 0x107549390>"
       ]
      }
     ],
     "prompt_number": 4
    },
    {
     "cell_type": "code",
     "collapsed": false,
     "input": [
      "ipynb_input(varname='secret', prompt='Enter secret')"
     ],
     "language": "python",
     "metadata": {},
     "outputs": [
      {
       "javascript": [
        "\n",
        "        var value = prompt(\"Enter secret\",\"\");\n",
        "        var py_code = \"secret = '\" + value + \"'\";\n",
        "        IPython.notebook.kernel.execute(py_code);\n",
        "    "
       ],
       "metadata": {},
       "output_type": "pyout",
       "prompt_number": 5,
       "text": [
        "<IPython.core.display.Javascript at 0x107549310>"
       ]
      }
     ],
     "prompt_number": 5
    },
    {
     "cell_type": "markdown",
     "metadata": {},
     "source": [
      "### Functions for getting Instagram data\n",
      "\n",
      "I wrote a couple functions so we can grab some instagram data\n",
      "\n",
      " * **get_instagram_data** : grabs a small sample of recent popular media\n",
      " * **most_liked_bytag** : grabs media by tag"
     ]
    },
    {
     "cell_type": "code",
     "collapsed": false,
     "input": [
      "def get_instagram_data(client_id, secret):\n",
      "    \"\"\"Function to get a small sample of instagram data\n",
      "    Parameters\n",
      "    ----------\n",
      "    client_id : string\n",
      "        valid client_id\n",
      "    secret: string\n",
      "        valid client_secret\n",
      "    Returns\n",
      "    -------\n",
      "    data : pandas DataFrame\n",
      "        dataframe with sample data\n",
      "    \"\"\"\n",
      "    api = InstagramAPI(client_id=client_id,client_secret=secret)\n",
      "    popular_media = api.media_popular(count = 50)\n",
      "    allres = []\n",
      "    for tmpm in popular_media:\n",
      "        user_info = api.user(tmpm.user.id)\n",
      "        try:\n",
      "            ntags = len(tmpm.tags) \n",
      "        except AttributeError:\n",
      "            ntags = 0\n",
      "        stats = [tmpm.user.username, \n",
      "                 tmpm.like_count, \n",
      "                 ntags,\n",
      "                 user_info.counts['followed_by']]\n",
      "        allres.append(stats)\n",
      "    return pandas.DataFrame(allres, \n",
      "                            columns = ('name', 'likes', 'tags', 'followers'))"
     ],
     "language": "python",
     "metadata": {},
     "outputs": [],
     "prompt_number": 75
    },
    {
     "cell_type": "code",
     "collapsed": false,
     "input": [
      "def most_liked_bytag(client_id, secret, tag):\n",
      "    api = InstagramAPI(client_id=client_id,client_secret=secret)\n",
      "    tags = api.tag_recent_media(tag_name=tag)[0]\n",
      "    likes = -1\n",
      "    for tmp in tags:\n",
      "        if tmp.like_count > likes:\n",
      "            most_liked = tmp\n",
      "            likes = tmp.like_count\n",
      "    try:\n",
      "        return most_liked.images['low_resolution'].url, likes, tag\n",
      "    except:\n",
      "        raise IOError('No images found for tag : {}'.format(tag))"
     ],
     "language": "python",
     "metadata": {},
     "outputs": [],
     "prompt_number": 64
    },
    {
     "cell_type": "markdown",
     "metadata": {},
     "source": [
      "# Find images using a tag\n",
      "\n",
      "In this code you can specify a **tag** (eg pydata) , the code will\n",
      "\n",
      " * search for media associated with that tag\n",
      " * return \n",
      "    * the link to a low resolution image for the most liked image\n",
      "    * number of likes"
     ]
    },
    {
     "cell_type": "code",
     "collapsed": false,
     "input": [
      "tag = 'pydata'\n",
      "url, likes, tag = most_liked_bytag(client_id, secret, tag)\n",
      "print tag, 'nlikes=',likes\n",
      "Image(url=url)"
     ],
     "language": "python",
     "metadata": {},
     "outputs": [
      {
       "output_type": "stream",
       "stream": "stdout",
       "text": [
        "pydata nlikes= 26\n"
       ]
      },
      {
       "html": [
        "<img src=\"http://distilleryimage5.s3.amazonaws.com/714ad87a497211e3a5870ad1d5d3af2d_6.jpg\"/>"
       ],
       "metadata": {},
       "output_type": "pyout",
       "prompt_number": 89,
       "text": [
        "<IPython.core.display.Image at 0x107611310>"
       ]
      }
     ],
     "prompt_number": 89
    },
    {
     "cell_type": "markdown",
     "metadata": {},
     "source": [
      "# Working with Instagram Data\n",
      "\n",
      "The previous function was fun, but we want to ask some questions using the data we collect form instagram...\n",
      "\n",
      "## Questions:\n",
      "\n",
      " * do users with more followers always have the most likes?\n",
      " * does the number of tags increase the number of likes?\n",
      " "
     ]
    },
    {
     "cell_type": "code",
     "collapsed": false,
     "input": [
      "df = get_instagram_data(client_id, secret)"
     ],
     "language": "python",
     "metadata": {},
     "outputs": [],
     "prompt_number": 76
    },
    {
     "cell_type": "code",
     "collapsed": false,
     "input": [
      "df.plot(x = 'likes', y = 'followers', style='o')"
     ],
     "language": "python",
     "metadata": {},
     "outputs": [
      {
       "metadata": {},
       "output_type": "pyout",
       "prompt_number": 77,
       "text": [
        "<matplotlib.axes.AxesSubplot at 0x107595bd0>"
       ]
      },
      {
       "metadata": {},
       "output_type": "display_data",
       "png": "[encoded data removed]",
       "text": [
        "<matplotlib.figure.Figure at 0x1075c1750>"
       ]
      }
     ],
     "prompt_number": 77
    },
    {
     "cell_type": "code",
     "collapsed": false,
     "input": [
      "df.plot(x='tags', y='likes', style='o')"
     ],
     "language": "python",
     "metadata": {},
     "outputs": [
      {
       "metadata": {},
       "output_type": "pyout",
       "prompt_number": 90,
       "text": [
        "<matplotlib.axes.AxesSubplot at 0x107679790>"
       ]
      },
      {
       "metadata": {},
       "output_type": "display_data",
       "png": "[encoded data removed]",
       "text": [
        "<matplotlib.figure.Figure at 0x1075c1110>"
       ]
      }
     ],
     "prompt_number": 90
    }
   ],
   "metadata": {}
  }
 ]
}