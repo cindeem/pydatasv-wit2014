{
 "metadata": {
  "name": ""
 },
 "nbformat": 3,
 "nbformat_minor": 0,
 "worksheets": [
  {
   "cells": [
    {
     "cell_type": "markdown",
     "metadata": {},
     "source": [
      "#Instagram\n",
      "## First: Set up some tools we will need to access instagram "
     ]
    },
    {
     "cell_type": "code",
     "collapsed": false,
     "input": [
      "%matplotlib inline"
     ],
     "language": "python",
     "metadata": {},
     "outputs": [],
     "prompt_number": 1
    },
    {
     "cell_type": "code",
     "collapsed": false,
     "input": [
      "import pandas\n",
      "from IPython.display import Image\n",
      "from instagram.client import InstagramAPI"
     ],
     "language": "python",
     "metadata": {},
     "outputs": [],
     "prompt_number": 12
    },
    {
     "cell_type": "markdown",
     "metadata": {},
     "source": [
      "### Code to prompt (you) \n",
      "\n",
      "I need you to put in some codes so the instagram API will work\n",
      "\n",
      "* client_id\n",
      "* secret "
     ]
    },
    {
     "cell_type": "code",
     "collapsed": false,
     "input": [
      "import IPython.core.display\n",
      "\n",
      "## Prompt user to enter input and hold in variable\n",
      "def ipynb_input(varname, prompt=''):\n",
      "    \"\"\"Prompt user for input and assign string val to given variable name.\"\"\"\n",
      "    js_code = (\"\"\"\n",
      "        var value = prompt(\"{prompt}\",\"\");\n",
      "        var py_code = \"{varname} = '\" + value + \"'\";\n",
      "        IPython.notebook.kernel.execute(py_code);\n",
      "    \"\"\").format(prompt=prompt, varname=varname)\n",
      "    return IPython.core.display.Javascript(js_code)"
     ],
     "language": "python",
     "metadata": {},
     "outputs": [],
     "prompt_number": 3
    },
    {
     "cell_type": "code",
     "collapsed": false,
     "input": [
      "##get Instagram Client ID, and Instagram Cleint Secret\n",
      "ipynb_input(varname='client_id', prompt='Enter client id')\n"
     ],
     "language": "python",
     "metadata": {},
     "outputs": [
      {
       "javascript": [
        "\n",
        "        var value = prompt(\"Enter client id\",\"\");\n",
        "        var py_code = \"client_id = '\" + value + \"'\";\n",
        "        IPython.notebook.kernel.execute(py_code);\n",
        "    "
       ],
       "metadata": {},
       "output_type": "pyout",
       "prompt_number": 106,
       "text": [
        "<IPython.core.display.Javascript at 0x1076b29d0>"
       ]
      }
     ],
     "prompt_number": 106
    },
    {
     "cell_type": "code",
     "collapsed": false,
     "input": [
      "ipynb_input(varname='secret', prompt='Enter secret')"
     ],
     "language": "python",
     "metadata": {},
     "outputs": [
      {
       "javascript": [
        "\n",
        "        var value = prompt(\"Enter secret\",\"\");\n",
        "        var py_code = \"secret = '\" + value + \"'\";\n",
        "        IPython.notebook.kernel.execute(py_code);\n",
        "    "
       ],
       "metadata": {},
       "output_type": "pyout",
       "prompt_number": 5,
       "text": [
        "<IPython.core.display.Javascript at 0x107549310>"
       ]
      }
     ],
     "prompt_number": 5
    },
    {
     "cell_type": "markdown",
     "metadata": {},
     "source": [
      "### Functions for getting Instagram data\n",
      "\n",
      "I wrote a couple functions so we can grab some instagram data\n",
      "\n",
      " * **get_instagram_data** : grabs a small sample of recent popular media\n",
      " * **most_liked_bytag** : grabs media by tag"
     ]
    },
    {
     "cell_type": "code",
     "collapsed": false,
     "input": [
      "def get_instagram_data(client_id, secret):\n",
      "    \"\"\"Function to get a small sample of instagram data\n",
      "    Parameters\n",
      "    ----------\n",
      "    client_id : string\n",
      "        valid client_id\n",
      "    secret: string\n",
      "        valid client_secret\n",
      "    Returns\n",
      "    -------\n",
      "    data : pandas DataFrame\n",
      "        dataframe with sample data\n",
      "    \"\"\"\n",
      "    api = InstagramAPI(client_id=client_id,client_secret=secret)\n",
      "    popular_media = api.media_popular(count = 50)\n",
      "    allres = []\n",
      "    for tmpm in popular_media:\n",
      "        user_info = api.user(tmpm.user.id)\n",
      "        try:\n",
      "            ntags = len(tmpm.tags) \n",
      "        except AttributeError:\n",
      "            ntags = 0\n",
      "        stats = [tmpm.user.username, \n",
      "                 tmpm.like_count, \n",
      "                 ntags,\n",
      "                 user_info.counts['followed_by']]\n",
      "        allres.append(stats)\n",
      "    return pandas.DataFrame(allres, \n",
      "                            columns = ('name', 'likes', 'tags', 'followers'))"
     ],
     "language": "python",
     "metadata": {},
     "outputs": [],
     "prompt_number": 75
    },
    {
     "cell_type": "code",
     "collapsed": false,
     "input": [
      "def most_liked_bytag(client_id, secret, tag):\n",
      "    api = InstagramAPI(client_id=client_id,client_secret=secret)\n",
      "    tags = api.tag_recent_media(tag_name=tag)[0]\n",
      "    likes = -1\n",
      "    for tmp in tags:\n",
      "        if tmp.like_count > likes:\n",
      "            most_liked = tmp\n",
      "            likes = tmp.like_count\n",
      "    try:\n",
      "        return most_liked.images['low_resolution'].url, likes, tag\n",
      "    except:\n",
      "        raise IOError('No images found for tag : {}'.format(tag))"
     ],
     "language": "python",
     "metadata": {},
     "outputs": [],
     "prompt_number": 64
    },
    {
     "cell_type": "markdown",
     "metadata": {},
     "source": [
      "# Find images using a tag\n",
      "\n",
      "In this code you can specify a **tag** (eg pydata) , the code will\n",
      "\n",
      " * search for media associated with that tag\n",
      " * return \n",
      "    * the link to a low resolution image for the most liked image\n",
      "    * number of likes"
     ]
    },
    {
     "cell_type": "code",
     "collapsed": false,
     "input": [
      "tag = 'pydata'\n",
      "url, likes, tag = most_liked_bytag(client_id, secret, tag)\n",
      "print tag, 'nlikes=',likes\n",
      "Image(url=url)"
     ],
     "language": "python",
     "metadata": {},
     "outputs": [
      {
       "output_type": "stream",
       "stream": "stdout",
       "text": [
        "pydata nlikes= 26\n"
       ]
      },
      {
       "html": [
        "<img src=\"http://distilleryimage5.s3.amazonaws.com/714ad87a497211e3a5870ad1d5d3af2d_6.jpg\"/>"
       ],
       "metadata": {},
       "output_type": "pyout",
       "prompt_number": 138,
       "text": [
        "<IPython.core.display.Image at 0x1076b3450>"
       ]
      }
     ],
     "prompt_number": 138
    },
    {
     "cell_type": "markdown",
     "metadata": {},
     "source": [
      "# Working with Instagram Data\n",
      "\n",
      "The previous function was fun, but we want to ask some questions using the data we collect form instagram...\n",
      "\n",
      "## Questions:\n",
      "\n",
      " * do users with more followers always have the most likes?\n",
      " * does the number of tags increase the number of likes?\n",
      " "
     ]
    },
    {
     "cell_type": "code",
     "collapsed": false,
     "input": [
      "## This takes a couple minutes\n",
      "df = get_instagram_data(client_id, secret)"
     ],
     "language": "python",
     "metadata": {},
     "outputs": [],
     "prompt_number": 123
    },
    {
     "cell_type": "code",
     "collapsed": false,
     "input": [
      "df.shape"
     ],
     "language": "python",
     "metadata": {},
     "outputs": [
      {
       "metadata": {},
       "output_type": "pyout",
       "prompt_number": 124,
       "text": [
        "(50, 4)"
       ]
      }
     ],
     "prompt_number": 124
    },
    {
     "cell_type": "code",
     "collapsed": false,
     "input": [
      "df.plot(x = 'likes', y = 'followers', style='o')"
     ],
     "language": "python",
     "metadata": {},
     "outputs": [
      {
       "metadata": {},
       "output_type": "pyout",
       "prompt_number": 125,
       "text": [
        "<matplotlib.axes.AxesSubplot at 0x1076b9e50>"
       ]
      },
      {
       "metadata": {},
       "output_type": "display_data",
       "png": "[encoded data removed]",
       "text": [
        "<matplotlib.figure.Figure at 0x1075ff9d0>"
       ]
      }
     ],
     "prompt_number": 125
    },
    {
     "cell_type": "code",
     "collapsed": false,
     "input": [
      "df.plot(x='tags', y='likes', style='o')"
     ],
     "language": "python",
     "metadata": {},
     "outputs": [
      {
       "metadata": {},
       "output_type": "pyout",
       "prompt_number": 135,
       "text": [
        "<matplotlib.axes.AxesSubplot at 0x1076ab450>"
       ]
      },
      {
       "metadata": {},
       "output_type": "display_data",
       "png": "[encoded data removed]",
       "text": [
        "<matplotlib.figure.Figure at 0x107bd6810>"
       ]
      }
     ],
     "prompt_number": 135
    },
    {
     "cell_type": "code",
     "collapsed": false,
     "input": [
      "import matplotlib.pyplot as plt\n",
      "import numpy as np\n",
      "res = []\n",
      "for name, data in df.groupby('tags'):\n",
      "    print name, data['likes'].mean()\n",
      "    res.append([name, data['likes'].mean()])\n",
      "res = np.asarray(res)\n"
     ],
     "language": "python",
     "metadata": {},
     "outputs": [
      {
       "output_type": "stream",
       "stream": "stdout",
       "text": [
        "0 35917.9642857\n",
        "1 22364.1111111\n",
        "2 9982.5\n",
        "3 13207.2\n",
        "4 50137.0\n",
        "11 3875.0\n"
       ]
      }
     ],
     "prompt_number": 130
    },
    {
     "cell_type": "code",
     "collapsed": false,
     "input": [
      "res"
     ],
     "language": "python",
     "metadata": {},
     "outputs": [
      {
       "metadata": {},
       "output_type": "pyout",
       "prompt_number": 133,
       "text": [
        "array([[  0.00000000e+00,   3.59179643e+04],\n",
        "       [  1.00000000e+00,   2.23641111e+04],\n",
        "       [  2.00000000e+00,   9.98250000e+03],\n",
        "       [  3.00000000e+00,   1.32072000e+04],\n",
        "       [  4.00000000e+00,   5.01370000e+04],\n",
        "       [  1.10000000e+01,   3.87500000e+03]])"
       ]
      }
     ],
     "prompt_number": 133
    },
    {
     "cell_type": "code",
     "collapsed": false,
     "input": [
      "plt.bar(res[:,0], res[:,1])"
     ],
     "language": "python",
     "metadata": {},
     "outputs": [
      {
       "metadata": {},
       "output_type": "pyout",
       "prompt_number": 134,
       "text": [
        "<Container object of 6 artists>"
       ]
      },
      {
       "metadata": {},
       "output_type": "display_data",
       "png": "[encoded data removed]",
       "text": [
        "<matplotlib.figure.Figure at 0x107b16cd0>"
       ]
      }
     ],
     "prompt_number": 134
    }
   ],
   "metadata": {}
  }
 ]
}