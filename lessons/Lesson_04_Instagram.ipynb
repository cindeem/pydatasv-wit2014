{
 "metadata": {
  "name": ""
 },
 "nbformat": 3,
 "nbformat_minor": 0,
 "worksheets": [
  {
   "cells": [
    {
     "cell_type": "markdown",
     "metadata": {},
     "source": [
      "#Instagram\n",
      "## First: Set up some tools we will need to access instagram "
     ]
    },
    {
     "cell_type": "code",
     "collapsed": false,
     "input": [
      "%matplotlib inline"
     ],
     "language": "python",
     "metadata": {},
     "outputs": []
    },
    {
     "cell_type": "code",
     "collapsed": false,
     "input": [
      "import pandas\n",
      "from IPython.display import Image\n",
      "from instagram.client import InstagramAPI\n",
      "import matplotlib.pyplot as plt"
     ],
     "language": "python",
     "metadata": {},
     "outputs": []
    },
    {
     "cell_type": "markdown",
     "metadata": {},
     "source": [
      "### Code to prompt (you) \n",
      "\n",
      "I need you to put in some codes so the instagram API will work\n",
      "\n",
      "* client_id\n",
      "* secret "
     ]
    },
    {
     "cell_type": "code",
     "collapsed": false,
     "input": [
      "import IPython.core.display\n",
      "\n",
      "## This code is just used to\n",
      "## prompt user (you) to enter input and hold in variable\n",
      "def ipynb_input(varname, prompt=''):\n",
      "    \"\"\"Prompt user for input and assign string val to given variable name.\"\"\"\n",
      "    js_code = (\"\"\"\n",
      "        var value = prompt(\"{prompt}\",\"\");\n",
      "        var py_code = \"{varname} = '\" + value + \"'\";\n",
      "        IPython.notebook.kernel.execute(py_code);\n",
      "    \"\"\").format(prompt=prompt, varname=varname)\n",
      "    return IPython.core.display.Javascript(js_code)"
     ],
     "language": "python",
     "metadata": {},
     "outputs": []
    },
    {
     "cell_type": "markdown",
     "metadata": {},
     "source": [
      "## client id and client secret\n",
      "\n",
      "* These are important codes, do not treat them lightly! \n",
      "\n",
      "* (This is why I make you type them in by hand)"
     ]
    },
    {
     "cell_type": "code",
     "collapsed": false,
     "input": [
      "##get Instagram Client ID, and Instagram Cleint Secret\n",
      "ipynb_input(varname='client_id', prompt='Enter client id')\n"
     ],
     "language": "python",
     "metadata": {},
     "outputs": []
    },
    {
     "cell_type": "code",
     "collapsed": false,
     "input": [
      "ipynb_input(varname='secret', prompt='Enter secret')"
     ],
     "language": "python",
     "metadata": {},
     "outputs": []
    },
    {
     "cell_type": "markdown",
     "metadata": {},
     "source": [
      "### Functions for getting Instagram data\n",
      "\n",
      "I wrote a couple functions so we can grab some instagram data\n",
      "\n",
      " * **get_instagram_data** : grabs a small sample of recent popular media\n",
      " * **most_liked_bytag** : grabs media by tag"
     ]
    },
    {
     "cell_type": "code",
     "collapsed": false,
     "input": [
      "def get_instagram_data(client_id, secret):\n",
      "    \"\"\"Function to get a small sample of instagram data\n",
      "    Parameters\n",
      "    ----------\n",
      "    client_id : string\n",
      "        valid client_id\n",
      "    secret: string\n",
      "        valid client_secret\n",
      "    Returns\n",
      "    -------\n",
      "    data : pandas DataFrame\n",
      "        dataframe with sample data\n",
      "    \"\"\"\n",
      "    api = InstagramAPI(client_id=client_id,client_secret=secret)\n",
      "    popular_media = api.media_popular(count = 5)\n",
      "    allres = []\n",
      "    for tmpm in popular_media:\n",
      "        user_info = api.user(tmpm.user.id)\n",
      "        try:\n",
      "            ntags = len(tmpm.tags) \n",
      "        except AttributeError:\n",
      "            ntags = 0\n",
      "        stats = [tmpm.user.username, \n",
      "                 tmpm.like_count, \n",
      "                 ntags,\n",
      "                 user_info.counts['followed_by']]\n",
      "        allres.append(stats)\n",
      "    return pandas.DataFrame(allres, \n",
      "                            columns = ('name', 'likes', 'tags', 'followers'))"
     ],
     "language": "python",
     "metadata": {},
     "outputs": []
    },
    {
     "cell_type": "code",
     "collapsed": false,
     "input": [
      "def most_liked_bytag(client_id, secret, tag):\n",
      "    api = InstagramAPI(client_id=client_id,client_secret=secret)\n",
      "    tags = api.tag_recent_media(tag_name=tag)[0]\n",
      "    likes = -1\n",
      "    for tmp in tags:\n",
      "        if tmp.like_count > likes:\n",
      "            most_liked = tmp\n",
      "            likes = tmp.like_count\n",
      "    try:\n",
      "        return most_liked.images['low_resolution'].url, likes, tag\n",
      "    except:\n",
      "        raise IOError('No images found for tag : {}'.format(tag))"
     ],
     "language": "python",
     "metadata": {},
     "outputs": []
    },
    {
     "cell_type": "markdown",
     "metadata": {},
     "source": [
      "# Find images using a tag\n",
      "\n",
      "In this code you can specify a **tag** (eg pydata) , the code will\n",
      "\n",
      " * search for media associated with that tag\n",
      " * return \n",
      "    * the link to a low resolution image for the most liked image\n",
      "    * number of likes"
     ]
    },
    {
     "cell_type": "code",
     "collapsed": false,
     "input": [
      "tag = 'pydata'\n",
      "url, likes, tag = most_liked_bytag(client_id, secret, tag)\n",
      "print tag, 'nlikes=',likes\n",
      "Image(url=url)"
     ],
     "language": "python",
     "metadata": {},
     "outputs": []
    },
    {
     "cell_type": "markdown",
     "metadata": {},
     "source": [
      "# Working with Instagram Data\n",
      "\n",
      "The previous function was fun, but we want to ask some questions using the data we collect form instagram...\n",
      "\n",
      "## Questions:\n",
      "\n",
      " * How does your number of likes relate to your number of followers?\n",
      " * If you have more tags, will you get more likes?\n",
      " "
     ]
    },
    {
     "cell_type": "code",
     "collapsed": false,
     "input": [
      "## This takes a couple minutes\n",
      "## Result is a pandas data frame\n",
      "df = get_instagram_data(client_id, secret)"
     ],
     "language": "python",
     "metadata": {},
     "outputs": []
    },
    {
     "cell_type": "code",
     "collapsed": false,
     "input": [
      "df.shape"
     ],
     "language": "python",
     "metadata": {},
     "outputs": []
    },
    {
     "cell_type": "code",
     "collapsed": false,
     "input": [
      "plt.figure(figsize=(6,6))\n",
      "plt.plot(df.followers, df.likes ,'o', ms=12)\n",
      "plt.xlabel('Followers')\n",
      "plt.ylabel('LIKES')"
     ],
     "language": "python",
     "metadata": {},
     "outputs": []
    },
    {
     "cell_type": "code",
     "collapsed": false,
     "input": [
      "plt.figure(figsize=(6,6))\n",
      "plt.plot(df.tags, df.likes, 'ro', ms=12)\n",
      "plt.axis([-1, 2, 0, 80000])\n",
      "plt.xlabel('TAGS')\n",
      "plt.ylabel('LIKES')"
     ],
     "language": "python",
     "metadata": {},
     "outputs": []
    },
    {
     "cell_type": "markdown",
     "metadata": {},
     "source": [
      "##Issues\n",
      "\n",
      "Is this the result you expected?\n",
      "\n",
      "Anything wrong with this?\n",
      "\n"
     ]
    },
    {
     "cell_type": "markdown",
     "metadata": {},
     "source": [
      "## Lets grab some data I collected earlier\n",
      "\n",
      "We will use pandas to read a file of data I have already collected\n"
     ]
    },
    {
     "cell_type": "code",
     "collapsed": false,
     "input": [
      "data = pandas.read_csv('sample_data.csv')"
     ],
     "language": "python",
     "metadata": {},
     "outputs": []
    },
    {
     "cell_type": "code",
     "collapsed": false,
     "input": [
      "data.shape"
     ],
     "language": "python",
     "metadata": {},
     "outputs": []
    },
    {
     "cell_type": "code",
     "collapsed": false,
     "input": [
      "data.columns"
     ],
     "language": "python",
     "metadata": {},
     "outputs": []
    },
    {
     "cell_type": "code",
     "collapsed": false,
     "input": [
      "\n",
      "plt.plot(data.followers, data.likes, 'o')\n",
      "plt.xlabel('FOLLOWERS')\n",
      "plt.ylabel('LIKES')\n",
      "\n"
     ],
     "language": "python",
     "metadata": {},
     "outputs": []
    },
    {
     "cell_type": "code",
     "collapsed": false,
     "input": [
      "plt.plot(data.tags, data.likes, 'o')\n",
      "plt.xlabel('TAGS')\n",
      "plt.ylabel('LIKES')"
     ],
     "language": "python",
     "metadata": {},
     "outputs": []
    },
    {
     "cell_type": "markdown",
     "metadata": {},
     "source": [
      "## Optional\n",
      "\n",
      "If you want to access the Instagram API, you need to know what it will give you back...\n",
      "Here is an example looking at popular media...\n",
      "\n"
     ]
    },
    {
     "cell_type": "code",
     "collapsed": false,
     "input": [
      "api = InstagramAPI(client_id=client_id,client_secret=secret)"
     ],
     "language": "python",
     "metadata": {},
     "outputs": []
    },
    {
     "cell_type": "code",
     "collapsed": false,
     "input": [
      "popular_media = api.media_popular(count = 5)"
     ],
     "language": "python",
     "metadata": {},
     "outputs": []
    },
    {
     "cell_type": "code",
     "collapsed": false,
     "input": [
      "popular_media"
     ],
     "language": "python",
     "metadata": {},
     "outputs": []
    },
    {
     "cell_type": "markdown",
     "metadata": {},
     "source": [
      "### Its a list!\n",
      "\n",
      "note that what we get back is just a list, (remember lists?)\n",
      "\n",
      "Lets grab the first item"
     ]
    },
    {
     "cell_type": "code",
     "collapsed": false,
     "input": [
      "example_media = popular_media[0]"
     ],
     "language": "python",
     "metadata": {},
     "outputs": []
    },
    {
     "cell_type": "code",
     "collapsed": false,
     "input": [
      "# notes users who have likes, but limited\n",
      "example_media.likes\n"
     ],
     "language": "python",
     "metadata": {},
     "outputs": []
    },
    {
     "cell_type": "code",
     "collapsed": false,
     "input": [
      "# gives you the total count\n",
      "example_media.like_count"
     ],
     "language": "python",
     "metadata": {},
     "outputs": []
    },
    {
     "cell_type": "markdown",
     "metadata": {},
     "source": [
      "## Media Object\n",
      "\n",
      "This media object has a number of attributes (remember those?) You access these to get the data for each media object you grab....The functions above (**get_instagram_data** **most_liked_bytag**)  collect this data into a usable set of data. \n",
      "\n",
      "* Now you can play with it too?\n",
      "* What can you look at?"
     ]
    }
   ],
   "metadata": {}
  }
 ]
}