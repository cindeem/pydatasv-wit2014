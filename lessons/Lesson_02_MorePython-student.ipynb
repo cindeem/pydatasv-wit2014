{
 "metadata": {
  "name": ""
 },
 "nbformat": 3,
 "nbformat_minor": 0,
 "worksheets": [
  {
   "cells": [
    {
     "cell_type": "markdown",
     "metadata": {},
     "source": [
      "# Looping through your list\n",
      "\n",
      "## make a new list of stuff \n",
      "\n",
      " * your name\n",
      " * favorite fruit\n",
      " * favorite number\n",
      " * favorite animal\n",
      " * number of siblings\n",
      " * favorite musician\n",
      " \n",
      "eg.\n",
      "mybag = ['cindee', 'blueberry', 13, 'cat', 1, 'Lorde']\n",
      "\n"
     ]
    },
    {
     "cell_type": "code",
     "collapsed": false,
     "input": [],
     "language": "python",
     "metadata": {},
     "outputs": []
    },
    {
     "cell_type": "markdown",
     "metadata": {},
     "source": [
      "I want to refer to each item in my bag and tell you what it is\n",
      "\n",
      "to do this I use a <font color=#FF6B4B>for loop</font>\n",
      "\n",
      "There are two important parts:\n",
      "\n",
      " * <font color=#FF6B4B>:</font> colon at the end of the line\n",
      " * <font color=#FF6B4B>indent</font> so python knows this is the activity at each pass\n",
      " \n",
      " \n",
      " ```python\n",
      " for thing in mybag:\n",
      "     print thing\n",
      "```"
     ]
    },
    {
     "cell_type": "code",
     "collapsed": false,
     "input": [
      "# thing is just a temporary variable , holding one of the items for a short time\n"
     ],
     "language": "python",
     "metadata": {},
     "outputs": []
    },
    {
     "cell_type": "markdown",
     "metadata": {},
     "source": [
      "#Asking questions about things in our bag\n",
      "##Sometimes we want to check the things in our bag\n",
      "\n",
      "* is my name in the bag? (what about misspelling?)\n",
      "* is there a cat in mybag?"
     ]
    },
    {
     "cell_type": "code",
     "collapsed": false,
     "input": [],
     "language": "python",
     "metadata": {},
     "outputs": []
    },
    {
     "cell_type": "code",
     "collapsed": false,
     "input": [
      "# I can check if something specific is in my bag\n"
     ],
     "language": "python",
     "metadata": {},
     "outputs": []
    },
    {
     "cell_type": "markdown",
     "metadata": {},
     "source": [
      "# Booleans?\n",
      "## True and False are a special type of object called Booleans\n",
      "\n",
      "<font color=#FF6B4B>True</font> and <font color=#FF6B4B>False</font> are used in comparisons. \n",
      "\n",
      "\n",
      "### isinstance\n",
      "We can use a special function called <font color=#FF6B4B>isinstance</font>, to check if something is a string or a number\n",
      "\n",
      " * for strings use: <font color=#FF6B4B>str</font> (short for string) \n",
      " * for numbers use: <font color=#FF6B4B>int</font> (short for integer)\n"
     ]
    },
    {
     "cell_type": "code",
     "collapsed": false,
     "input": [],
     "language": "python",
     "metadata": {},
     "outputs": []
    },
    {
     "cell_type": "code",
     "collapsed": false,
     "input": [
      "# finding a type\n",
      "type(3)"
     ],
     "language": "python",
     "metadata": {},
     "outputs": []
    },
    {
     "cell_type": "markdown",
     "metadata": {},
     "source": [
      "### Exercise\n",
      "#### See if the third thing in your bag is a number"
     ]
    },
    {
     "cell_type": "code",
     "collapsed": false,
     "input": [],
     "language": "python",
     "metadata": {},
     "outputs": []
    },
    {
     "cell_type": "markdown",
     "metadata": {},
     "source": [
      "## Lets combine looping, and questions\n",
      " * We can loop through the things in our bag\n",
      " * Check if the thing is a string\n",
      "     (use <font color=#FF6B4B>isinstance</font> and <font color=#FF6B4B>str</font> to make this comparison)\n",
      " * print the thing if it is a string"
     ]
    },
    {
     "cell_type": "code",
     "collapsed": false,
     "input": [],
     "language": "python",
     "metadata": {},
     "outputs": []
    },
    {
     "cell_type": "markdown",
     "metadata": {},
     "source": [
      "# Multiple Dimensions\n",
      "\n",
      "##What if we combined everyones bag into one bigbag?\n",
      "\n",
      "So \n",
      "\n"
     ]
    },
    {
     "cell_type": "code",
     "collapsed": false,
     "input": [],
     "language": "python",
     "metadata": {},
     "outputs": []
    },
    {
     "cell_type": "code",
     "collapsed": false,
     "input": [],
     "language": "python",
     "metadata": {},
     "outputs": []
    },
    {
     "cell_type": "markdown",
     "metadata": {},
     "source": [
      "##How do I access all the favorite animals?"
     ]
    },
    {
     "cell_type": "code",
     "collapsed": false,
     "input": [],
     "language": "python",
     "metadata": {},
     "outputs": []
    },
    {
     "cell_type": "code",
     "collapsed": false,
     "input": [
      "# I wished that worked, now what do I do?"
     ],
     "language": "python",
     "metadata": {},
     "outputs": []
    },
    {
     "cell_type": "markdown",
     "metadata": {},
     "source": [
      "#import and arrays\n",
      "## import\n",
      "Python comes with a bunch of cool tools, but sometimes I need other tools (like above)\n",
      "\n",
      "To get access to these tools I need to import them into my Python workspace\n",
      "\n",
      "##arrays\n",
      "One set of tools comes in a package called <font color=#FF6B4B>numpy</font>\n",
      "<font color=#FF6B4B>Numpy</font> is used in data science all the time, because it allows us to easily work with lists of lists efficiently\n",
      "\n",
      "These objects are called <font color=#FF6B4B>arrays</font>\n",
      "\n",
      " * lets import numpy\n",
      " * we can even give it an alias or nickname \n"
     ]
    },
    {
     "cell_type": "code",
     "collapsed": false,
     "input": [
      "import numpy\n",
      "import numpy as np"
     ],
     "language": "python",
     "metadata": {},
     "outputs": []
    },
    {
     "cell_type": "code",
     "collapsed": false,
     "input": [
      "# np.asarray"
     ],
     "language": "python",
     "metadata": {},
     "outputs": []
    },
    {
     "cell_type": "code",
     "collapsed": false,
     "input": [
      "#print bigbag\n"
     ],
     "language": "python",
     "metadata": {},
     "outputs": []
    },
    {
     "cell_type": "code",
     "collapsed": false,
     "input": [
      "# index big bag\n"
     ],
     "language": "python",
     "metadata": {},
     "outputs": []
    },
    {
     "cell_type": "markdown",
     "metadata": {},
     "source": [
      "#Visualizing multiple dimensions using blocks\n",
      "##ipythonblocks \n",
      "ipython blocks allow us to understand this complex structure of multidimensional objects a little more easily\n",
      "\n",
      "lets create a simple set of blocks that has 4 rows and 4 columns\n",
      "\n"
     ]
    },
    {
     "cell_type": "code",
     "collapsed": false,
     "input": [
      "from ipythonblocks import BlockGrid\n",
      "# define some colors\n",
      "black = (0, 0, 0)\n",
      "red = (255, 0 , 0)\n",
      "# make a black grid\n",
      "blocks = BlockGrid(4,4, fill=black)\n",
      "\n",
      "# make one block red\n",
      "blocks[2,2] = red\n",
      "# show the grid\n",
      "blocks"
     ],
     "language": "python",
     "metadata": {},
     "outputs": []
    },
    {
     "cell_type": "code",
     "collapsed": false,
     "input": [
      "# Once you have created the block\n",
      "# use your mouse to hover over each block, what does it tell you?"
     ],
     "language": "python",
     "metadata": {},
     "outputs": []
    },
    {
     "cell_type": "code",
     "collapsed": false,
     "input": [
      "blocks = BlockGrid(4,4)\n",
      "previous_block = None\n",
      "for block in blocks.animate(0.8):\n",
      "    block.rgb=red\n",
      "    if previous_block:\n",
      "        previous_block.rgb = black\n",
      "    previous_block = block\n"
     ],
     "language": "python",
     "metadata": {},
     "outputs": []
    },
    {
     "cell_type": "code",
     "collapsed": false,
     "input": [
      "# we can make a whole column red\n",
      "blocks = BlockGrid(4,4, fill=black)\n",
      "blocks[:,2] = red\n",
      "blocks"
     ],
     "language": "python",
     "metadata": {},
     "outputs": []
    },
    {
     "cell_type": "markdown",
     "metadata": {},
     "source": [
      "###Exercise:\n",
      "Can you make the blocks and make the whole 2nd row red and everything else black?"
     ]
    },
    {
     "cell_type": "code",
     "collapsed": false,
     "input": [],
     "language": "python",
     "metadata": {},
     "outputs": []
    },
    {
     "cell_type": "markdown",
     "metadata": {},
     "source": [
      "#Dictionaries\n",
      "\n",
      "###Dictionaries are like lists, with a few changes\n",
      "\n",
      " * create using use curly brackets {}\n",
      " * key value pairs, or access the items in your bag by their names\n",
      "\n",
      "eg. Create a dictionary called newbag with one item **name**, which has a value of 'cindee'\n",
      "```python\n",
      "newbag = {'name': 'cindee}\n",
      "```\n"
     ]
    },
    {
     "cell_type": "markdown",
     "metadata": {},
     "source": [
      "###create a dictionary called newbag which contains\n",
      "\n",
      " * \"name\"     : your name\n",
      " * \"fruit\"    : favorite fruit\n",
      " * \"number\"   : favorite number\n",
      " * \"animal\"   : favorite animal\n",
      " * \"siblings\" : number of siblings\n",
      " * \"musician\" : favorite musician\n",
      " "
     ]
    },
    {
     "cell_type": "code",
     "collapsed": false,
     "input": [],
     "language": "python",
     "metadata": {},
     "outputs": []
    },
    {
     "cell_type": "code",
     "collapsed": false,
     "input": [
      "# we cannot index a dictionary by numbers anymore, we need to use names"
     ],
     "language": "python",
     "metadata": {},
     "outputs": []
    },
    {
     "cell_type": "code",
     "collapsed": false,
     "input": [
      "newbag[0]"
     ],
     "language": "python",
     "metadata": {},
     "outputs": []
    },
    {
     "cell_type": "code",
     "collapsed": false,
     "input": [],
     "language": "python",
     "metadata": {},
     "outputs": []
    },
    {
     "cell_type": "markdown",
     "metadata": {},
     "source": [
      "#Looping through dictionaries\n",
      "\n",
      "## loop through the keys\n",
      "\n",
      "```python\n",
      "* for key in dict:  (loops through keys)\n",
      "```\n",
      "\n",
      "### Exercise:\n",
      "\n",
      "Remember how to write a loop?\n",
      "Loops through the keys\n",
      "print the key and the value for each pass through the loop"
     ]
    },
    {
     "cell_type": "code",
     "collapsed": false,
     "input": [],
     "language": "python",
     "metadata": {},
     "outputs": []
    },
    {
     "cell_type": "markdown",
     "metadata": {},
     "source": [
      "#Pandas\n",
      "\n",
      "Pandas are not just cute, it is a library that is used in datascience for working with complex sets of data. This is the last thing we need to understand to work with Instagram data.\n",
      "\n",
      " * import the pandas library\n",
      " "
     ]
    },
    {
     "cell_type": "code",
     "collapsed": false,
     "input": [
      "import pandas"
     ],
     "language": "python",
     "metadata": {},
     "outputs": []
    },
    {
     "cell_type": "code",
     "collapsed": false,
     "input": [
      "adas_bag = { 'name' : 'ada', \n",
      "          'fruit' : 'mango', \n",
      "          'number' : 42,\n",
      "          'animal' : 'cat',\n",
      "          'siblings': 0,\n",
      "          'musician' : 'Mozart'}"
     ],
     "language": "python",
     "metadata": {},
     "outputs": []
    },
    {
     "cell_type": "code",
     "collapsed": false,
     "input": [],
     "language": "python",
     "metadata": {},
     "outputs": []
    },
    {
     "cell_type": "code",
     "collapsed": false,
     "input": [],
     "language": "python",
     "metadata": {},
     "outputs": []
    },
    {
     "cell_type": "markdown",
     "metadata": {},
     "source": [
      "### Transpose\n",
      "####Small aside (optional)\n",
      "\n",
      "trans\u00b7pose\n",
      "trans\u02c8p\u014dz/Submit\n",
      "verb\n",
      "1.\n",
      "cause (two or more things) to change places with each other.\n",
      "synonyms:\tinterchange, exchange, switch, swap (around), reverse, invert, flip "
     ]
    },
    {
     "cell_type": "code",
     "collapsed": false,
     "input": [
      "#We can swap rows and columns easily!\n",
      "# the .T stands for transpose (google it)\n",
      "bigbag = bigbag.T"
     ],
     "language": "python",
     "metadata": {},
     "outputs": []
    },
    {
     "cell_type": "code",
     "collapsed": false,
     "input": [
      "bigbag"
     ],
     "language": "python",
     "metadata": {},
     "outputs": []
    },
    {
     "cell_type": "markdown",
     "metadata": {},
     "source": [
      "## Access the data in pandas\n",
      "\n",
      " * We do not use [] like a list\n",
      " * This is more like a dictionary, we call things by name"
     ]
    },
    {
     "cell_type": "code",
     "collapsed": false,
     "input": [],
     "language": "python",
     "metadata": {},
     "outputs": []
    }
   ],
   "metadata": {}
  }
 ]
}