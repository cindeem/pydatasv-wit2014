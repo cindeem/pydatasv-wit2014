{
 "metadata": {
  "name": ""
 },
 "nbformat": 3,
 "nbformat_minor": 0,
 "worksheets": [
  {
   "cells": [
    {
     "cell_type": "markdown",
     "metadata": {},
     "source": [
      "#Python Basics\n",
      "\n",
      "## Lesson One"
     ]
    },
    {
     "cell_type": "markdown",
     "metadata": {},
     "source": [
      "\n",
      "###Using the IPython Notebook\n",
      "\n",
      "create a new 'cell'\n",
      "\n",
      "    * Control-m  b\n",
      "    \n",
      "run a 'cell'  \n",
      "\n",
      "    * Control-Enter\n"
     ]
    },
    {
     "cell_type": "code",
     "collapsed": false,
     "input": [
      "# create a new cell"
     ],
     "language": "python",
     "metadata": {},
     "outputs": []
    },
    {
     "cell_type": "markdown",
     "metadata": {},
     "source": [
      "## Simple Math\n",
      "\n",
      "###Math Symbols in Python\n",
      "\n",
      "\n",
      "  * `+ add`\n",
      "  * `* multiply`\n",
      "  * `/ divide`\n",
      "  * `** raise to power  3**2 = 9` \n",
      "      * $$3^2 = 9$$ \n",
      "      \n",
      "     \n",
      "\n"
     ]
    },
    {
     "cell_type": "code",
     "collapsed": false,
     "input": [
      "1 + 3 * 2"
     ],
     "language": "python",
     "metadata": {},
     "outputs": []
    },
    {
     "cell_type": "code",
     "collapsed": false,
     "input": [
      "## Why did you get 7?\n",
      "## how would you get (1+3)2 ?\n"
     ],
     "language": "python",
     "metadata": {},
     "outputs": []
    },
    {
     "cell_type": "code",
     "collapsed": false,
     "input": [],
     "language": "python",
     "metadata": {},
     "outputs": []
    },
    {
     "cell_type": "markdown",
     "metadata": {},
     "source": [
      "## Strings\n",
      "\n",
      "type a string  (requires quotes \"\")\n",
      "\n",
      " * you can use ''\n",
      " * you can use \"\"\n",
      " "
     ]
    },
    {
     "cell_type": "code",
     "collapsed": false,
     "input": [
      "#create a new cell and type a string"
     ],
     "language": "python",
     "metadata": {},
     "outputs": []
    },
    {
     "cell_type": "markdown",
     "metadata": {},
     "source": [
      "## Variables\n",
      "\n",
      "create a **variable** to hold stuff\n",
      "\n",
      "* myname = \"yourname\"\n",
      "* mystuff = 1 + 2 * 3"
     ]
    },
    {
     "cell_type": "code",
     "collapsed": false,
     "input": [],
     "language": "python",
     "metadata": {},
     "outputs": []
    },
    {
     "cell_type": "code",
     "collapsed": false,
     "input": [
      "# type myname to see what the variable holds\n"
     ],
     "language": "python",
     "metadata": {},
     "outputs": []
    },
    {
     "cell_type": "code",
     "collapsed": false,
     "input": [
      "# whats in stuff?\n"
     ],
     "language": "python",
     "metadata": {},
     "outputs": []
    },
    {
     "cell_type": "markdown",
     "metadata": {},
     "source": [
      "## Print\n",
      "\n",
      "While your notebook will print many things by default, \n",
      "\n",
      "you can force this using the <font color=#FF6B4B>**print**</font> command\n"
     ]
    },
    {
     "cell_type": "code",
     "collapsed": false,
     "input": [
      "# print contents of a variable"
     ],
     "language": "python",
     "metadata": {},
     "outputs": []
    },
    {
     "cell_type": "code",
     "collapsed": false,
     "input": [],
     "language": "python",
     "metadata": {},
     "outputs": []
    },
    {
     "cell_type": "code",
     "collapsed": false,
     "input": [],
     "language": "python",
     "metadata": {},
     "outputs": []
    },
    {
     "cell_type": "markdown",
     "metadata": {},
     "source": [
      "## Collections of things\n",
      "\n",
      "###Whats in your bag?\n",
      "\n",
      "    * we can make a list of items using square brackets [ ]\n",
      "    \n",
      "\n",
      "Example \n",
      "\n",
      "```python\n",
      "things = [1, 2, 3,]\n",
      "```"
     ]
    },
    {
     "cell_type": "code",
     "collapsed": false,
     "input": [
      "# create things\n"
     ],
     "language": "python",
     "metadata": {},
     "outputs": []
    },
    {
     "cell_type": "code",
     "collapsed": false,
     "input": [
      "# make a list (called simplelist) with a combination of strings and numbers\n"
     ],
     "language": "python",
     "metadata": {},
     "outputs": []
    },
    {
     "cell_type": "markdown",
     "metadata": {},
     "source": [
      "## Fill your bag \n",
      "Lets create a variable called bag and put stuff in it"
     ]
    },
    {
     "cell_type": "code",
     "collapsed": false,
     "input": [
      "##Lets fill your bag with a few items\n",
      "\n",
      " * your name\n",
      " * favorite fruit\n",
      " * favorite number\n",
      " * favorite animal\n",
      " * number of siblings"
     ],
     "language": "python",
     "metadata": {},
     "outputs": []
    },
    {
     "cell_type": "code",
     "collapsed": false,
     "input": [],
     "language": "python",
     "metadata": {},
     "outputs": []
    },
    {
     "cell_type": "code",
     "collapsed": false,
     "input": [],
     "language": "python",
     "metadata": {},
     "outputs": []
    },
    {
     "cell_type": "markdown",
     "metadata": {},
     "source": [
      "### To access stuff in your bag\n",
      "\n",
      " * use square brackets **[ ]**\n",
      " * use a number (start at zero)\n",
      " \n",
      "eg\n",
      "```python\n",
      "mybag[0] # this grabs the first item\n",
      "```"
     ]
    },
    {
     "cell_type": "code",
     "collapsed": false,
     "input": [
      "# grab the first thing out of mybag (note I use 0 zero)\n"
     ],
     "language": "python",
     "metadata": {},
     "outputs": []
    },
    {
     "cell_type": "code",
     "collapsed": false,
     "input": [
      "## Exercise:\n",
      "# grab the 3rd thing from your bag \n",
      "# ( what index (number)  do you need to use?)"
     ],
     "language": "python",
     "metadata": {},
     "outputs": []
    },
    {
     "cell_type": "code",
     "collapsed": false,
     "input": [],
     "language": "python",
     "metadata": {},
     "outputs": []
    },
    {
     "cell_type": "markdown",
     "metadata": {},
     "source": [
      "### Exercise:\n",
      "\n",
      " * grab the first thing from your bag, and save to a new variable called <font color=#FF6B4B>**name**</font>"
     ]
    },
    {
     "cell_type": "code",
     "collapsed": false,
     "input": [
      "\n"
     ],
     "language": "python",
     "metadata": {},
     "outputs": []
    },
    {
     "cell_type": "code",
     "collapsed": false,
     "input": [],
     "language": "python",
     "metadata": {},
     "outputs": []
    },
    {
     "cell_type": "markdown",
     "metadata": {},
     "source": [
      "## Working with your stuff\n",
      "\n",
      "These things you are creating (<font color=#FF6B4B>variables</font>) have functions and attributes\n",
      "\n",
      " * <font color=#FF6B4B>functions</font> do things to your variable, use round brackets ( )\n",
      " * <font color=#FF6B4B>attributes</font> tell you things about your variable\n",
      " * we will primarily work with functions (also called methods)\n",
      "\n",
      "\n",
      "### Getting more information about your variable\n",
      "\n",
      "```ipython\n",
      "mybag.<TAB>\n",
      "```\n",
      "\n",
      "<font color=#FF6B4B>append</font>: add something to the end of your list\n",
      "\n",
      "* add your favorite musician"
     ]
    },
    {
     "cell_type": "code",
     "collapsed": false,
     "input": [
      "#mybag."
     ],
     "language": "python",
     "metadata": {},
     "outputs": []
    },
    {
     "cell_type": "code",
     "collapsed": false,
     "input": [
      "## You can use a question mark to get information about a function\n",
      "mybag.append?"
     ],
     "language": "python",
     "metadata": {},
     "outputs": []
    },
    {
     "cell_type": "code",
     "collapsed": false,
     "input": [
      "# add favorite musician\n"
     ],
     "language": "python",
     "metadata": {},
     "outputs": []
    },
    {
     "cell_type": "markdown",
     "metadata": {},
     "source": [
      "<font color=#FF6B4B>sort</font> : sort the contents of your list"
     ]
    },
    {
     "cell_type": "code",
     "collapsed": false,
     "input": [
      "## to find out how something works or what it does\n",
      "mybag.sort?"
     ],
     "language": "python",
     "metadata": {},
     "outputs": []
    },
    {
     "cell_type": "code",
     "collapsed": false,
     "input": [],
     "language": "python",
     "metadata": {},
     "outputs": []
    },
    {
     "cell_type": "code",
     "collapsed": false,
     "input": [],
     "language": "python",
     "metadata": {},
     "outputs": []
    },
    {
     "cell_type": "code",
     "collapsed": false,
     "input": [
      "## what does this order tell you about how Python orders these objects?"
     ],
     "language": "python",
     "metadata": {},
     "outputs": []
    },
    {
     "cell_type": "markdown",
     "metadata": {},
     "source": [
      "<font color=#FF6B4B>reverse</font>: reverse the order of your list"
     ]
    },
    {
     "cell_type": "code",
     "collapsed": false,
     "input": [
      "mybag.reverse()"
     ],
     "language": "python",
     "metadata": {},
     "outputs": []
    },
    {
     "cell_type": "code",
     "collapsed": false,
     "input": [],
     "language": "python",
     "metadata": {},
     "outputs": []
    },
    {
     "cell_type": "code",
     "collapsed": false,
     "input": [
      "# Find another function you can use on your list?\n",
      "# index?\n",
      "# What does it do?\n",
      "# Give it a try"
     ],
     "language": "python",
     "metadata": {},
     "outputs": []
    },
    {
     "cell_type": "code",
     "collapsed": false,
     "input": [],
     "language": "python",
     "metadata": {},
     "outputs": []
    }
   ],
   "metadata": {}
  }
 ]
}